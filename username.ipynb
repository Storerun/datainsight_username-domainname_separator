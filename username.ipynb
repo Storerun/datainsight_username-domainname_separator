{
 "cells": [
  {
   "cell_type": "code",
   "execution_count": null,
   "id": "76fb782b",
   "metadata": {},
   "outputs": [],
   "source": [
    "a=input(\"PLEASE ENTER YOUR EMAIL: \" )\n",
    "if '@' in a:\n",
    "    user_name= a.split('@')[0]\n",
    "    dormain_name= a.split('@')[1]\n",
    "    print(\"your username is: \"+ user_name+ \" and your domain name is: \" + dormain_name)\n",
    "else:\n",
    "    print(\"your email is not valid.\")\n",
    "\n",
    "    "
   ]
  },
  {
   "cell_type": "code",
   "execution_count": null,
   "id": "fc54ece5",
   "metadata": {},
   "outputs": [],
   "source": []
  }
 ],
 "metadata": {
  "kernelspec": {
   "display_name": "Python 3",
   "language": "python",
   "name": "python3"
  },
  "language_info": {
   "codemirror_mode": {
    "name": "ipython",
    "version": 3
   },
   "file_extension": ".py",
   "mimetype": "text/x-python",
   "name": "python",
   "nbconvert_exporter": "python",
   "pygments_lexer": "ipython3",
   "version": "3.8.8"
  }
 },
 "nbformat": 4,
 "nbformat_minor": 5
}
